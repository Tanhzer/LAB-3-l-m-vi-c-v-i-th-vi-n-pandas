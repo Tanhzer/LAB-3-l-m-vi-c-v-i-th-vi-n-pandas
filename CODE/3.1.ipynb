{
 "cells": [
  {
   "cell_type": "markdown",
   "metadata": {},
   "source": [
    "## 1.KHÁM PHÁ DỮ LIỆU"
   ]
  },
  {
   "cell_type": "code",
   "execution_count": 1,
   "metadata": {},
   "outputs": [
    {
     "name": "stdout",
     "output_type": "stream",
     "text": [
      "       date symbol     open     high      low    close   volume\n",
      "0  01-03-19   AMZN  1655.13  1674.26  1651.00  1671.73  4974877\n",
      "1  04-03-19   AMZN  1685.00  1709.43  1674.36  1696.17  6167358\n",
      "2  05-03-19   AMZN  1702.95  1707.80  1689.01  1692.43  3681522\n",
      "3  06-03-19   AMZN  1695.97      NaN      NaN  1668.95  3996001\n",
      "4  07-03-19   AMZN  1667.37  1669.75  1620.51  1625.95  4957017\n"
     ]
    }
   ],
   "source": [
    "import pandas as pd\n",
    "\n",
    "# Đọc file CSV\n",
    "stocks1 = pd.read_csv('stocks1.csv')\n",
    "\n",
    "# Kiểm tra dữ liệu đã đọc\n",
    "print(stocks1.head())\n"
   ]
  },
  {
   "cell_type": "code",
   "execution_count": 2,
   "metadata": {},
   "outputs": [
    {
     "name": "stdout",
     "output_type": "stream",
     "text": [
      "       date symbol     open     high      low    close   volume\n",
      "0  01-03-19   AMZN  1655.13  1674.26  1651.00  1671.73  4974877\n",
      "1  04-03-19   AMZN  1685.00  1709.43  1674.36  1696.17  6167358\n",
      "2  05-03-19   AMZN  1702.95  1707.80  1689.01  1692.43  3681522\n",
      "3  06-03-19   AMZN  1695.97      NaN      NaN  1668.95  3996001\n",
      "4  07-03-19   AMZN  1667.37  1669.75  1620.51  1625.95  4957017\n"
     ]
    }
   ],
   "source": [
    "# Hiển thị 5 dòng đầu tiên\n",
    "print(stocks1.head(5))\n"
   ]
  },
  {
   "cell_type": "code",
   "execution_count": 3,
   "metadata": {},
   "outputs": [
    {
     "name": "stdout",
     "output_type": "stream",
     "text": [
      "date       object\n",
      "symbol     object\n",
      "open      float64\n",
      "high      float64\n",
      "low       float64\n",
      "close     float64\n",
      "volume      int64\n",
      "dtype: object\n"
     ]
    }
   ],
   "source": [
    "# Hiển thị kiểu dữ liệu của các cột\n",
    "print(stocks1.dtypes)\n"
   ]
  },
  {
   "cell_type": "code",
   "execution_count": 4,
   "metadata": {},
   "outputs": [
    {
     "name": "stdout",
     "output_type": "stream",
     "text": [
      "<class 'pandas.core.frame.DataFrame'>\n",
      "RangeIndex: 15 entries, 0 to 14\n",
      "Data columns (total 7 columns):\n",
      " #   Column  Non-Null Count  Dtype  \n",
      "---  ------  --------------  -----  \n",
      " 0   date    15 non-null     object \n",
      " 1   symbol  15 non-null     object \n",
      " 2   open    15 non-null     float64\n",
      " 3   high    13 non-null     float64\n",
      " 4   low     13 non-null     float64\n",
      " 5   close   15 non-null     float64\n",
      " 6   volume  15 non-null     int64  \n",
      "dtypes: float64(4), int64(1), object(2)\n",
      "memory usage: 972.0+ bytes\n",
      "None\n"
     ]
    }
   ],
   "source": [
    "# Hiển thị thông tin tổng quan\n",
    "print(stocks1.info())\n"
   ]
  },
  {
   "cell_type": "markdown",
   "metadata": {},
   "source": [
    "### 2.XỬ LÝ DỮ LIỆU NULL"
   ]
  },
  {
   "cell_type": "code",
   "execution_count": 9,
   "metadata": {},
   "outputs": [
    {
     "name": "stdout",
     "output_type": "stream",
     "text": [
      "Dữ liệu Null trong stocks1:\n",
      "     date  symbol   open   high    low  close  volume\n",
      "0   False   False  False  False  False  False   False\n",
      "1   False   False  False  False  False  False   False\n",
      "2   False   False  False  False  False  False   False\n",
      "3   False   False  False   True   True  False   False\n",
      "4   False   False  False  False  False  False   False\n",
      "5   False   False  False  False  False  False   False\n",
      "6   False   False  False  False  False  False   False\n",
      "7   False   False  False  False  False  False   False\n",
      "8   False   False  False  False  False  False   False\n",
      "9   False   False  False  False  False  False   False\n",
      "10  False   False  False  False  False  False   False\n",
      "11  False   False  False  False  False  False   False\n",
      "12  False   False  False   True   True  False   False\n",
      "13  False   False  False  False  False  False   False\n",
      "14  False   False  False  False  False  False   False\n",
      "\n",
      "Tổng số lượng Null trong mỗi cột:\n",
      "date      0\n",
      "symbol    0\n",
      "open      0\n",
      "high      2\n",
      "low       2\n",
      "close     0\n",
      "volume    0\n",
      "dtype: int64\n"
     ]
    }
   ],
   "source": [
    "# Kiểm tra xem có dữ liệu Null nào không\n",
    "null_data = stocks1.isnull()\n",
    "print(\"Dữ liệu Null trong stocks1:\")\n",
    "print(null_data)\n",
    "\n",
    "# Tổng số lượng Null trong từng cột\n",
    "null_counts = stocks1.isnull().sum()\n",
    "print(\"\\nTổng số lượng Null trong mỗi cột:\")\n",
    "print(null_counts)\n"
   ]
  },
  {
   "cell_type": "code",
   "execution_count": 10,
   "metadata": {},
   "outputs": [
    {
     "name": "stdout",
     "output_type": "stream",
     "text": [
      "\n",
      "Dữ liệu Null ở cột 'high' đã được thay thế bằng giá trị trung bình.\n"
     ]
    },
    {
     "name": "stderr",
     "output_type": "stream",
     "text": [
      "C:\\Users\\DELL\\AppData\\Local\\Temp\\ipykernel_6532\\2215682055.py:5: FutureWarning: A value is trying to be set on a copy of a DataFrame or Series through chained assignment using an inplace method.\n",
      "The behavior will change in pandas 3.0. This inplace method will never work because the intermediate object on which we are setting values always behaves as a copy.\n",
      "\n",
      "For example, when doing 'df[col].method(value, inplace=True)', try using 'df.method({col: value}, inplace=True)' or df[col] = df[col].method(value) instead, to perform the operation inplace on the original object.\n",
      "\n",
      "\n",
      "  stocks1['high'].fillna(mean_high, inplace=True)\n"
     ]
    }
   ],
   "source": [
    "# Tính giá trị trung bình của cột high\n",
    "mean_high = stocks1['high'].mean()\n",
    "\n",
    "# Thay thế Null bằng giá trị trung bình\n",
    "stocks1['high'].fillna(mean_high, inplace=True)\n",
    "print(\"\\nDữ liệu Null ở cột 'high' đã được thay thế bằng giá trị trung bình.\")\n"
   ]
  },
  {
   "cell_type": "code",
   "execution_count": 11,
   "metadata": {},
   "outputs": [
    {
     "name": "stdout",
     "output_type": "stream",
     "text": [
      "\n",
      "Dữ liệu Null ở cột 'low' đã được thay thế bằng giá trị trung bình.\n"
     ]
    },
    {
     "name": "stderr",
     "output_type": "stream",
     "text": [
      "C:\\Users\\DELL\\AppData\\Local\\Temp\\ipykernel_6532\\521951137.py:5: FutureWarning: A value is trying to be set on a copy of a DataFrame or Series through chained assignment using an inplace method.\n",
      "The behavior will change in pandas 3.0. This inplace method will never work because the intermediate object on which we are setting values always behaves as a copy.\n",
      "\n",
      "For example, when doing 'df[col].method(value, inplace=True)', try using 'df.method({col: value}, inplace=True)' or df[col] = df[col].method(value) instead, to perform the operation inplace on the original object.\n",
      "\n",
      "\n",
      "  stocks1['low'].fillna(mean_low, inplace=True)\n"
     ]
    }
   ],
   "source": [
    "# Tính giá trị trung bình của cột low\n",
    "mean_low = stocks1['low'].mean()\n",
    "\n",
    "# Thay thế Null bằng giá trị trung bình\n",
    "stocks1['low'].fillna(mean_low, inplace=True)\n",
    "print(\"\\nDữ liệu Null ở cột 'low' đã được thay thế bằng giá trị trung bình.\")\n"
   ]
  },
  {
   "cell_type": "markdown",
   "metadata": {},
   "source": [
    "### 3. GỘP DỮ LIỆU VÀ PHÂN TÍCH CƠ BẢN"
   ]
  },
  {
   "cell_type": "code",
   "execution_count": 12,
   "metadata": {},
   "outputs": [
    {
     "name": "stdout",
     "output_type": "stream",
     "text": [
      "Dữ liệu stocks2:\n",
      "       date symbol    open     high     low   close    volume\n",
      "0  01-03-19     FB  162.60  163.132  161.69  162.28  11097770\n",
      "1  04-03-19     FB  163.90  167.500  163.83  167.37  18894689\n",
      "2  05-03-19     FB  167.37  171.880  166.55  171.26  28187890\n",
      "3  06-03-19     FB  172.90  173.570  171.27  172.51  21531723\n",
      "4  07-03-19     FB  171.50  171.740  167.61  169.13  18306504\n"
     ]
    }
   ],
   "source": [
    "import pandas as pd\n",
    "\n",
    "# Đọc file CSV\n",
    "stocks2 = pd.read_csv('stocks2.csv')\n",
    "\n",
    "# Kiểm tra dữ liệu đã đọc\n",
    "print(\"Dữ liệu stocks2:\")\n",
    "print(stocks2.head())\n"
   ]
  },
  {
   "cell_type": "code",
   "execution_count": 13,
   "metadata": {},
   "outputs": [
    {
     "name": "stdout",
     "output_type": "stream",
     "text": [
      "\n",
      "Dữ liệu sau khi gộp (stocks):\n",
      "       date symbol     open         high          low    close   volume\n",
      "0  01-03-19   AMZN  1655.13  1674.260000  1651.000000  1671.73  4974877\n",
      "1  04-03-19   AMZN  1685.00  1709.430000  1674.360000  1696.17  6167358\n",
      "2  05-03-19   AMZN  1702.95  1707.800000  1689.010000  1692.43  3681522\n",
      "3  06-03-19   AMZN  1695.97   943.511538   926.775385  1668.95  3996001\n",
      "4  07-03-19   AMZN  1667.37  1669.750000  1620.510000  1625.95  4957017\n"
     ]
    }
   ],
   "source": [
    "# Gộp hai DataFrame\n",
    "stocks = pd.concat([stocks1, stocks2], ignore_index=True)\n",
    "\n",
    "# Hiển thị thông tin của DataFrame mới\n",
    "print(\"\\nDữ liệu sau khi gộp (stocks):\")\n",
    "print(stocks.head())\n"
   ]
  },
  {
   "cell_type": "code",
   "execution_count": 14,
   "metadata": {},
   "outputs": [
    {
     "name": "stdout",
     "output_type": "stream",
     "text": [
      "\n",
      "Giá trung bình (average) cho mỗi ngày:\n",
      "       date      average\n",
      "0  01-03-19  1663.030000\n",
      "1  04-03-19  1691.240000\n",
      "2  05-03-19  1698.047500\n",
      "3  06-03-19  1308.801731\n",
      "4  07-03-19  1645.895000\n"
     ]
    }
   ],
   "source": [
    "# Tính giá trung bình\n",
    "stocks['average'] = stocks[['open', 'high', 'low', 'close']].mean(axis=1)\n",
    "\n",
    "# Hiển thị kết quả\n",
    "print(\"\\nGiá trung bình (average) cho mỗi ngày:\")\n",
    "print(stocks[['date', 'average']].head())\n"
   ]
  },
  {
   "cell_type": "code",
   "execution_count": 15,
   "metadata": {},
   "outputs": [
    {
     "name": "stdout",
     "output_type": "stream",
     "text": [
      "\n",
      "5 dòng đầu tiên của DataFrame stocks:\n",
      "       date symbol     open         high          low    close   volume  \\\n",
      "0  01-03-19   AMZN  1655.13  1674.260000  1651.000000  1671.73  4974877   \n",
      "1  04-03-19   AMZN  1685.00  1709.430000  1674.360000  1696.17  6167358   \n",
      "2  05-03-19   AMZN  1702.95  1707.800000  1689.010000  1692.43  3681522   \n",
      "3  06-03-19   AMZN  1695.97   943.511538   926.775385  1668.95  3996001   \n",
      "4  07-03-19   AMZN  1667.37  1669.750000  1620.510000  1625.95  4957017   \n",
      "\n",
      "       average  \n",
      "0  1663.030000  \n",
      "1  1691.240000  \n",
      "2  1698.047500  \n",
      "3  1308.801731  \n",
      "4  1645.895000  \n"
     ]
    }
   ],
   "source": [
    "# Hiển thị 5 dòng đầu tiên\n",
    "print(\"\\n5 dòng đầu tiên của DataFrame stocks:\")\n",
    "print(stocks.head(5))\n"
   ]
  },
  {
   "cell_type": "markdown",
   "metadata": {},
   "source": [
    "### 4.KẾT HỢP DỮ LIỆU TỪ NHIỀU NGUỒN"
   ]
  },
  {
   "cell_type": "code",
   "execution_count": 16,
   "metadata": {},
   "outputs": [
    {
     "name": "stdout",
     "output_type": "stream",
     "text": [
      "5 dòng đầu tiên của companies:\n",
      "   name  employees headquarters_city headquarters_state\n",
      "0  AMZN     613300           Seattle                 WA\n",
      "1  GOOG      98771     Mountain View                 CA\n",
      "2  AAPL     132000         Cupertino                 CA\n",
      "3    FB      48268        Menlo Park                 CA\n",
      "4  TSLA      48016         Palo Alto                 CA\n"
     ]
    }
   ],
   "source": [
    "# Đọc file companies.csv\n",
    "companies = pd.read_csv('companies.csv')\n",
    "\n",
    "# Hiển thị 5 dòng đầu tiên\n",
    "print(\"5 dòng đầu tiên của companies:\")\n",
    "print(companies.head())\n"
   ]
  },
  {
   "cell_type": "code",
   "execution_count": null,
   "metadata": {},
   "outputs": [],
   "source": [
    "# Kết hợp stocks và companies dựa trên cột symbol\n",
    "merged_data = pd.merge(stocks, companies, on='symbol', how='inner')\n",
    "\n",
    "# Hiển thị 5 dòng đầu tiên của dữ liệu kết hợp\n",
    "print(\"\\n5 dòng đầu tiên của dữ liệu kết hợp (merged_data):\")\n",
    "print(merged_data.head())\n"
   ]
  },
  {
   "cell_type": "code",
   "execution_count": null,
   "metadata": {},
   "outputs": [],
   "source": [
    "# Tính giá đóng cửa trung bình cho mỗi công ty\n",
    "average_close_per_company = merged_data.groupby('name')['close'].mean()\n",
    "\n",
    "# Chuyển kết quả thành DataFrame để dễ hiển thị\n",
    "average_close_per_company = average_close_per_company.reset_index()\n",
    "average_close_per_company.columns = ['name', 'average_close']\n",
    "\n",
    "# Hiển thị kết quả\n",
    "print(\"\\nGiá đóng cửa trung bình cho mỗi công ty:\")\n",
    "print(average_close_per_company.head())\n"
   ]
  },
  {
   "cell_type": "code",
   "execution_count": null,
   "metadata": {},
   "outputs": [],
   "source": [
    "# Hiển thị 5 công ty đầu tiên\n",
    "print(\"\\n5 công ty đầu tiên và giá đóng cửa trung bình:\")\n",
    "print(average_close_per_company.head(5))\n"
   ]
  },
  {
   "cell_type": "markdown",
   "metadata": {},
   "source": [
    "### 5.SỬ DỤNG MULTIINDEX VÀ GROUPBY"
   ]
  },
  {
   "cell_type": "code",
   "execution_count": 22,
   "metadata": {},
   "outputs": [
    {
     "name": "stdout",
     "output_type": "stream",
     "text": [
      "DataFrame stocks với MultiIndex:\n",
      "                    open         high          low    close   volume  \\\n",
      "date     symbol                                                        \n",
      "01-03-19 AMZN    1655.13  1674.260000  1651.000000  1671.73  4974877   \n",
      "04-03-19 AMZN    1685.00  1709.430000  1674.360000  1696.17  6167358   \n",
      "05-03-19 AMZN    1702.95  1707.800000  1689.010000  1692.43  3681522   \n",
      "06-03-19 AMZN    1695.97   943.511538   926.775385  1668.95  3996001   \n",
      "07-03-19 AMZN    1667.37  1669.750000  1620.510000  1625.95  4957017   \n",
      "\n",
      "                     average  \n",
      "date     symbol               \n",
      "01-03-19 AMZN    1663.030000  \n",
      "04-03-19 AMZN    1691.240000  \n",
      "05-03-19 AMZN    1698.047500  \n",
      "06-03-19 AMZN    1308.801731  \n",
      "07-03-19 AMZN    1645.895000  \n"
     ]
    }
   ],
   "source": [
    "# Tạo MultiIndex từ cột date và symbol\n",
    "stocks.set_index(['date', 'symbol'], inplace=True)\n",
    "\n",
    "# Hiển thị DataFrame sau khi thiết lập MultiIndex\n",
    "print(\"DataFrame stocks với MultiIndex:\")\n",
    "print(stocks.head())\n"
   ]
  },
  {
   "cell_type": "code",
   "execution_count": 23,
   "metadata": {},
   "outputs": [
    {
     "name": "stdout",
     "output_type": "stream",
     "text": [
      "\n",
      "Kết quả tính trung bình:\n",
      "                    open      high      low    close      volume    average\n",
      "date     symbol                                                            \n",
      "01-03-19 AAPL     174.28   175.150   172.89   174.97  25886167.0   174.3225\n",
      "         AMZN    1655.13  1674.260  1651.00  1671.73   4974877.0  1663.0300\n",
      "         FB       162.60   163.132   161.69   162.28  11097770.0   162.4255\n",
      "         GOOG    1124.90  1142.970  1124.75  1140.99   1450316.0  1133.4025\n",
      "         TSLA     306.94   307.130   291.90   294.79  22911375.0   300.1900\n"
     ]
    }
   ],
   "source": [
    "# Tính giá trung bình và volume trung bình cho mỗi ngày, mỗi mã chứng khoán\n",
    "grouped_data = stocks.groupby(['date', 'symbol']).mean()\n",
    "\n",
    "# Hiển thị kết quả\n",
    "print(\"\\nKết quả tính trung bình:\")\n",
    "print(grouped_data.head())\n"
   ]
  },
  {
   "cell_type": "code",
   "execution_count": 24,
   "metadata": {},
   "outputs": [
    {
     "name": "stdout",
     "output_type": "stream",
     "text": [
      "\n",
      "Kết quả sau khi sắp xếp:\n",
      "                    open      high      low    close      volume    average\n",
      "date     symbol                                                            \n",
      "01-03-19 AAPL     174.28   175.150   172.89   174.97  25886167.0   174.3225\n",
      "         AMZN    1655.13  1674.260  1651.00  1671.73   4974877.0  1663.0300\n",
      "         FB       162.60   163.132   161.69   162.28  11097770.0   162.4255\n",
      "         GOOG    1124.90  1142.970  1124.75  1140.99   1450316.0  1133.4025\n",
      "         TSLA     306.94   307.130   291.90   294.79  22911375.0   300.1900\n"
     ]
    }
   ],
   "source": [
    "# Sắp xếp dữ liệu theo MultiIndex (date, symbol)\n",
    "grouped_data.sort_index(inplace=True)\n",
    "\n",
    "# Hiển thị kết quả sau khi sắp xếp\n",
    "print(\"\\nKết quả sau khi sắp xếp:\")\n",
    "print(grouped_data.head())\n"
   ]
  },
  {
   "cell_type": "code",
   "execution_count": 25,
   "metadata": {},
   "outputs": [
    {
     "name": "stdout",
     "output_type": "stream",
     "text": [
      "\n",
      "Kết quả cho 5 ngày đầu tiên:\n",
      "                    open      high      low    close      volume    average\n",
      "date     symbol                                                            \n",
      "01-03-19 AAPL     174.28   175.150   172.89   174.97  25886167.0   174.3225\n",
      "         AMZN    1655.13  1674.260  1651.00  1671.73   4974877.0  1663.0300\n",
      "         FB       162.60   163.132   161.69   162.28  11097770.0   162.4255\n",
      "         GOOG    1124.90  1142.970  1124.75  1140.99   1450316.0  1133.4025\n",
      "         TSLA     306.94   307.130   291.90   294.79  22911375.0   300.1900\n"
     ]
    }
   ],
   "source": [
    "# Lọc dữ liệu 5 ngày đầu tiên (theo thứ tự MultiIndex)\n",
    "first_5_days = grouped_data.head(5)\n",
    "\n",
    "print(\"\\nKết quả cho 5 ngày đầu tiên:\")\n",
    "print(first_5_days)\n"
   ]
  },
  {
   "cell_type": "markdown",
   "metadata": {},
   "source": [
    "### 6.TẠO VÀ PHÂN TÍCH PIVOT TABLE"
   ]
  },
  {
   "cell_type": "code",
   "execution_count": 26,
   "metadata": {},
   "outputs": [
    {
     "name": "stdout",
     "output_type": "stream",
     "text": [
      "Pivot Table:\n",
      "symbol      AAPL     AMZN      FB     GOOG    TSLA\n",
      "date                                              \n",
      "01-03-19  174.97  1671.73  162.28  1140.99  294.79\n",
      "04-03-19  175.85  1696.17  167.37  1147.80  285.36\n",
      "05-03-19  175.53  1692.43  171.26  1162.03  276.54\n",
      "06-03-19  174.52  1668.95  172.51  1157.86  276.24\n",
      "07-03-19  172.50  1625.95  169.13  1143.30  276.59\n"
     ]
    }
   ],
   "source": [
    "# Tạo Pivot Table với date làm chỉ mục, symbol làm cột, và giá trị trung bình của close làm giá trị\n",
    "pivot_table = stocks.pivot_table(values='close', index='date', columns='symbol', aggfunc='mean')\n",
    "\n",
    "# Hiển thị Pivot Table\n",
    "print(\"Pivot Table:\")\n",
    "print(pivot_table.head())\n"
   ]
  },
  {
   "cell_type": "code",
   "execution_count": 27,
   "metadata": {},
   "outputs": [
    {
     "name": "stdout",
     "output_type": "stream",
     "text": [
      "\n",
      "Pivot Table sau khi thêm cột tổng volume:\n",
      "symbol      AAPL     AMZN      FB     GOOG    TSLA  total_volume\n",
      "date                                                            \n",
      "01-03-19  174.97  1671.73  162.28  1140.99  294.79     118666547\n",
      "04-03-19  175.85  1696.17  167.37  1147.80  285.36      23776775\n",
      "05-03-19  175.53  1692.43  171.26  1162.03  276.54      98018576\n",
      "06-03-19  174.52  1668.95  172.51  1157.86  276.24       6605385\n",
      "07-03-19  172.50  1625.95  169.13  1143.30  276.59      78550901\n"
     ]
    }
   ],
   "source": [
    "# Tính tổng volume giao dịch cho mỗi mã chứng khoán (symbol)\n",
    "total_volume = stocks.groupby('symbol')['volume'].sum()\n",
    "\n",
    "# Thêm cột tổng volume vào Pivot Table\n",
    "pivot_table['total_volume'] = pivot_table.columns.map(total_volume)\n",
    "\n",
    "# Hiển thị kết quả sau khi thêm cột tổng volume\n",
    "print(\"\\nPivot Table sau khi thêm cột tổng volume:\")\n",
    "print(pivot_table.head())\n"
   ]
  },
  {
   "cell_type": "code",
   "execution_count": 1,
   "metadata": {},
   "outputs": [
    {
     "ename": "NameError",
     "evalue": "name 'pivot_table' is not defined",
     "output_type": "error",
     "traceback": [
      "\u001b[1;31m---------------------------------------------------------------------------\u001b[0m",
      "\u001b[1;31mNameError\u001b[0m                                 Traceback (most recent call last)",
      "Cell \u001b[1;32mIn[1], line 2\u001b[0m\n\u001b[0;32m      1\u001b[0m \u001b[38;5;66;03m# Sắp xếp Pivot Table theo tổng volume giao dịch từ cao xuống thấp\u001b[39;00m\n\u001b[1;32m----> 2\u001b[0m pivot_table_sorted \u001b[38;5;241m=\u001b[39m \u001b[43mpivot_table\u001b[49m\u001b[38;5;241m.\u001b[39msort_values(by\u001b[38;5;241m=\u001b[39m\u001b[38;5;124m'\u001b[39m\u001b[38;5;124mtotal_volume\u001b[39m\u001b[38;5;124m'\u001b[39m, axis\u001b[38;5;241m=\u001b[39m\u001b[38;5;241m1\u001b[39m, ascending\u001b[38;5;241m=\u001b[39m\u001b[38;5;28;01mFalse\u001b[39;00m)\n\u001b[0;32m      4\u001b[0m \u001b[38;5;66;03m# Hiển thị Pivot Table sau khi sắp xếp\u001b[39;00m\n\u001b[0;32m      5\u001b[0m \u001b[38;5;28mprint\u001b[39m(\u001b[38;5;124m\"\u001b[39m\u001b[38;5;130;01m\\n\u001b[39;00m\u001b[38;5;124mPivot Table sau khi sắp xếp theo tổng volume giao dịch:\u001b[39m\u001b[38;5;124m\"\u001b[39m)\n",
      "\u001b[1;31mNameError\u001b[0m: name 'pivot_table' is not defined"
     ]
    }
   ],
   "source": [
    "# Sắp xếp Pivot Table theo tổng volume giao dịch từ cao xuống thấp\n",
    "pivot_table_sorted = pivot_table.sort_values(by='total_volume', axis=1, ascending=False)\n",
    "\n",
    "# Hiển thị Pivot Table sau khi sắp xếp\n",
    "print(\"\\nPivot Table sau khi sắp xếp theo tổng volume giao dịch:\")\n",
    "print(pivot_table_sorted.head())\n"
   ]
  },
  {
   "cell_type": "code",
   "execution_count": 2,
   "metadata": {},
   "outputs": [
    {
     "ename": "NameError",
     "evalue": "name 'pivot_table_sorted' is not defined",
     "output_type": "error",
     "traceback": [
      "\u001b[1;31m---------------------------------------------------------------------------\u001b[0m",
      "\u001b[1;31mNameError\u001b[0m                                 Traceback (most recent call last)",
      "Cell \u001b[1;32mIn[2], line 2\u001b[0m\n\u001b[0;32m      1\u001b[0m \u001b[38;5;66;03m# Hiển thị 5 mã chứng khoán có tổng volume giao dịch cao nhất\u001b[39;00m\n\u001b[1;32m----> 2\u001b[0m top_5_symbols \u001b[38;5;241m=\u001b[39m \u001b[43mpivot_table_sorted\u001b[49m\u001b[38;5;241m.\u001b[39miloc[:, :\u001b[38;5;241m5\u001b[39m]\n\u001b[0;32m      4\u001b[0m \u001b[38;5;28mprint\u001b[39m(\u001b[38;5;124m\"\u001b[39m\u001b[38;5;130;01m\\n\u001b[39;00m\u001b[38;5;124m5 mã chứng khoán có tổng volume giao dịch cao nhất:\u001b[39m\u001b[38;5;124m\"\u001b[39m)\n\u001b[0;32m      5\u001b[0m \u001b[38;5;28mprint\u001b[39m(top_5_symbols)\n",
      "\u001b[1;31mNameError\u001b[0m: name 'pivot_table_sorted' is not defined"
     ]
    }
   ],
   "source": [
    "# Hiển thị 5 mã chứng khoán có tổng volume giao dịch cao nhất\n",
    "top_5_symbols = pivot_table_sorted.iloc[:, :5]\n",
    "\n",
    "print(\"\\n5 mã chứng khoán có tổng volume giao dịch cao nhất:\")\n",
    "print(top_5_symbols)\n"
   ]
  }
 ],
 "metadata": {
  "kernelspec": {
   "display_name": "Python 3",
   "language": "python",
   "name": "python3"
  },
  "language_info": {
   "codemirror_mode": {
    "name": "ipython",
    "version": 3
   },
   "file_extension": ".py",
   "mimetype": "text/x-python",
   "name": "python",
   "nbconvert_exporter": "python",
   "pygments_lexer": "ipython3",
   "version": "3.12.0"
  }
 },
 "nbformat": 4,
 "nbformat_minor": 2
}
